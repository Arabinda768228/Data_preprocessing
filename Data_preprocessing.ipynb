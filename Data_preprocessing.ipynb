{
  "nbformat": 4,
  "nbformat_minor": 0,
  "metadata": {
    "colab": {
      "provenance": [],
      "include_colab_link": true
    },
    "kernelspec": {
      "name": "python3",
      "display_name": "Python 3"
    }
  },
  "cells": [
    {
      "cell_type": "markdown",
      "metadata": {
        "id": "view-in-github",
        "colab_type": "text"
      },
      "source": [
        "<a href=\"https://colab.research.google.com/github/Arabinda768228/Data_preprocessing/blob/main/Data_preprocessing.ipynb\" target=\"_parent\"><img src=\"https://colab.research.google.com/assets/colab-badge.svg\" alt=\"Open In Colab\"/></a>"
      ]
    },
    {
      "cell_type": "markdown",
      "metadata": {
        "id": "37puETfgRzzg"
      },
      "source": [
        "# Data Preprocessing | Machine Learning Bootcamp"
      ]
    },
    {
      "cell_type": "markdown",
      "metadata": {
        "id": "EoRP98MpR-qj"
      },
      "source": [
        "## Import the required libraries"
      ]
    },
    {
      "cell_type": "code",
      "source": [
        "import numpy as np\n",
        "import matplotlib.pyplot as plt\n",
        "import pandas as pd"
      ],
      "metadata": {
        "id": "NLNc4vAbLOi-"
      },
      "execution_count": null,
      "outputs": []
    },
    {
      "cell_type": "markdown",
      "metadata": {
        "id": "RopL7tUZSQkT"
      },
      "source": [
        "## Import the dataset"
      ]
    },
    {
      "cell_type": "code",
      "source": [
        "dataset = pd.read_csv('Data.csv')\n",
        "X = dataset.iloc[:, :-1].values\n",
        "Y = dataset.iloc[:, -1].values\n"
      ],
      "metadata": {
        "id": "QzHSQsvZKn9A"
      },
      "execution_count": null,
      "outputs": []
    },
    {
      "cell_type": "code",
      "source": [
        "print(X)"
      ],
      "metadata": {
        "id": "UZrmukIqL9X5",
        "colab": {
          "base_uri": "https://localhost:8080/"
        },
        "outputId": "ce1c2153-0018-43e4-ebfb-da8de683fb3b"
      },
      "execution_count": null,
      "outputs": [
        {
          "output_type": "stream",
          "name": "stdout",
          "text": [
            "[['India' 44.0 72000.0]\n",
            " ['Thailand ' 27.0 48000.0]\n",
            " ['Indonesia' 30.0 54000.0]\n",
            " ['China' 38.0 61000.0]\n",
            " ['India' 40.0 nan]\n",
            " ['China' 35.0 58000.0]\n",
            " ['Thailand ' nan 52000.0]\n",
            " ['India' 48.0 79000.0]\n",
            " ['Indonesia' 50.0 83000.0]\n",
            " ['Thailand ' 37.0 67000.0]\n",
            " ['India' 25.0 nan]\n",
            " ['Thailand ' 36.0 60000.0]\n",
            " ['Indonesia' 42.0 64000.0]\n",
            " ['India' nan 40000.0]\n",
            " ['Thailand ' 52.0 90000.0]\n",
            " ['Indonesia' nan 55000.0]\n",
            " ['China' 41.0 nan]\n",
            " ['India' 29.0 48000.0]\n",
            " ['China' 43.0 70000.0]]\n"
          ]
        }
      ]
    },
    {
      "cell_type": "code",
      "source": [
        "print(Y)"
      ],
      "metadata": {
        "id": "dj9mh1YcMGVo",
        "colab": {
          "base_uri": "https://localhost:8080/"
        },
        "outputId": "8f8418c0-a510-4180-c298-2b8a73f0961a"
      },
      "execution_count": null,
      "outputs": [
        {
          "output_type": "stream",
          "name": "stdout",
          "text": [
            "['No' 'Yes' 'No' 'No' 'Yes' 'Yes' 'No' 'Yes' 'No' 'Yes' 'No' 'No' 'Yes'\n",
            " 'Yes' 'Yes' 'No' 'Yes' 'No' 'Yes']\n"
          ]
        }
      ]
    },
    {
      "cell_type": "markdown",
      "metadata": {
        "id": "nhfKXNxlSabC"
      },
      "source": [
        "## Solving for missing data"
      ]
    },
    {
      "cell_type": "code",
      "source": [
        "from sklearn.impute import SimpleImputer\n",
        "imputer = SimpleImputer(missing_values = np.nan, strategy = 'mean')\n",
        "imputer.fit(X[:, 1:3])\n",
        "X[:, 1:3] = imputer.transform(X[:, 1:3])"
      ],
      "metadata": {
        "id": "Fo9VqvhbMXU5"
      },
      "execution_count": null,
      "outputs": []
    },
    {
      "cell_type": "code",
      "source": [
        "print(X)"
      ],
      "metadata": {
        "id": "mcD11K4vPpfK",
        "colab": {
          "base_uri": "https://localhost:8080/"
        },
        "outputId": "6e07f881-a50f-46a7-a5c7-60e7721c5890"
      },
      "execution_count": null,
      "outputs": [
        {
          "output_type": "stream",
          "name": "stdout",
          "text": [
            "[['India' 44.0 72000.0]\n",
            " ['Thailand ' 27.0 48000.0]\n",
            " ['Indonesia' 30.0 54000.0]\n",
            " ['China' 38.0 61000.0]\n",
            " ['India' 40.0 62562.5]\n",
            " ['China' 35.0 58000.0]\n",
            " ['Thailand ' 38.5625 52000.0]\n",
            " ['India' 48.0 79000.0]\n",
            " ['Indonesia' 50.0 83000.0]\n",
            " ['Thailand ' 37.0 67000.0]\n",
            " ['India' 25.0 62562.5]\n",
            " ['Thailand ' 36.0 60000.0]\n",
            " ['Indonesia' 42.0 64000.0]\n",
            " ['India' 38.5625 40000.0]\n",
            " ['Thailand ' 52.0 90000.0]\n",
            " ['Indonesia' 38.5625 55000.0]\n",
            " ['China' 41.0 62562.5]\n",
            " ['India' 29.0 48000.0]\n",
            " ['China' 43.0 70000.0]]\n"
          ]
        }
      ]
    },
    {
      "cell_type": "markdown",
      "metadata": {
        "id": "CriG6VzVSjcK"
      },
      "source": [
        "## Encoding categorical data"
      ]
    },
    {
      "cell_type": "markdown",
      "metadata": {
        "id": "AhSpdQWeSsFh"
      },
      "source": [
        "### Encoding the Independent Variable"
      ]
    },
    {
      "cell_type": "code",
      "source": [
        "from sklearn.compose import ColumnTransformer\n",
        "from sklearn.preprocessing import OneHotEncoder\n",
        "\n",
        "Column_transform = ColumnTransformer(transformers = [('encoder', OneHotEncoder(), [0])],\n",
        "                                     remainder = 'passthrough')\n",
        "X = np.array(Column_transform.fit_transform(X))"
      ],
      "metadata": {
        "id": "GydlcAF6RKoU"
      },
      "execution_count": null,
      "outputs": []
    },
    {
      "cell_type": "code",
      "source": [
        "print(X)"
      ],
      "metadata": {
        "id": "rag9WSj1TpkZ",
        "colab": {
          "base_uri": "https://localhost:8080/"
        },
        "outputId": "eb3101f7-1ce1-4c6d-f9eb-4f2523e69c32"
      },
      "execution_count": null,
      "outputs": [
        {
          "output_type": "stream",
          "name": "stdout",
          "text": [
            "[[0.0 1.0 0.0 0.0 44.0 72000.0]\n",
            " [0.0 0.0 0.0 1.0 27.0 48000.0]\n",
            " [0.0 0.0 1.0 0.0 30.0 54000.0]\n",
            " [1.0 0.0 0.0 0.0 38.0 61000.0]\n",
            " [0.0 1.0 0.0 0.0 40.0 62562.5]\n",
            " [1.0 0.0 0.0 0.0 35.0 58000.0]\n",
            " [0.0 0.0 0.0 1.0 38.5625 52000.0]\n",
            " [0.0 1.0 0.0 0.0 48.0 79000.0]\n",
            " [0.0 0.0 1.0 0.0 50.0 83000.0]\n",
            " [0.0 0.0 0.0 1.0 37.0 67000.0]\n",
            " [0.0 1.0 0.0 0.0 25.0 62562.5]\n",
            " [0.0 0.0 0.0 1.0 36.0 60000.0]\n",
            " [0.0 0.0 1.0 0.0 42.0 64000.0]\n",
            " [0.0 1.0 0.0 0.0 38.5625 40000.0]\n",
            " [0.0 0.0 0.0 1.0 52.0 90000.0]\n",
            " [0.0 0.0 1.0 0.0 38.5625 55000.0]\n",
            " [1.0 0.0 0.0 0.0 41.0 62562.5]\n",
            " [0.0 1.0 0.0 0.0 29.0 48000.0]\n",
            " [1.0 0.0 0.0 0.0 43.0 70000.0]]\n"
          ]
        }
      ]
    },
    {
      "cell_type": "markdown",
      "metadata": {
        "id": "DXh8oVSITIc6"
      },
      "source": [
        "### Encoding the Dependent Variable"
      ]
    },
    {
      "cell_type": "code",
      "source": [
        "from sklearn.preprocessing import LabelEncoder\n",
        "le = LabelEncoder()\n",
        "Y = le.fit_transform(Y)"
      ],
      "metadata": {
        "id": "Sqda-TPzUMEc"
      },
      "execution_count": null,
      "outputs": []
    },
    {
      "cell_type": "code",
      "source": [
        "print(Y)"
      ],
      "metadata": {
        "id": "VUq7nOFxUvqS",
        "colab": {
          "base_uri": "https://localhost:8080/"
        },
        "outputId": "fffd0328-34ba-4db3-8526-4a619b66a14b"
      },
      "execution_count": null,
      "outputs": [
        {
          "output_type": "stream",
          "name": "stdout",
          "text": [
            "[0 1 0 0 1 1 0 1 0 1 0 0 1 1 1 0 1 0 1]\n"
          ]
        }
      ]
    },
    {
      "cell_type": "markdown",
      "metadata": {
        "id": "qb_vcgm3qZKW"
      },
      "source": [
        "## Splitting the dataset into the Training set and Test set"
      ]
    },
    {
      "cell_type": "code",
      "source": [
        "from sklearn.model_selection import train_test_split\n",
        "X_train, X_test, Y_train, Y_test = train_test_split(X, Y, test_size = 0.2,random_state = 40)"
      ],
      "metadata": {
        "id": "oZDYwv6LVN5P"
      },
      "execution_count": null,
      "outputs": []
    },
    {
      "cell_type": "code",
      "source": [
        "print(X_train)"
      ],
      "metadata": {
        "colab": {
          "base_uri": "https://localhost:8080/"
        },
        "id": "r35XVNFlBE05",
        "outputId": "31c640ba-2db4-4ad6-a924-9b0a58517f20"
      },
      "execution_count": null,
      "outputs": [
        {
          "output_type": "stream",
          "name": "stdout",
          "text": [
            "[[0.0 0.0 1.0 0.0 42.0 64000.0]\n",
            " [1.0 0.0 0.0 0.0 43.0 70000.0]\n",
            " [0.0 0.0 0.0 1.0 52.0 90000.0]\n",
            " [0.0 0.0 0.0 1.0 37.0 67000.0]\n",
            " [0.0 0.0 0.0 1.0 36.0 60000.0]\n",
            " [1.0 0.0 0.0 0.0 38.0 61000.0]\n",
            " [0.0 1.0 0.0 0.0 38.5625 40000.0]\n",
            " [0.0 1.0 0.0 0.0 29.0 48000.0]\n",
            " [0.0 0.0 0.0 1.0 27.0 48000.0]\n",
            " [0.0 0.0 1.0 0.0 30.0 54000.0]\n",
            " [0.0 0.0 1.0 0.0 38.5625 55000.0]\n",
            " [0.0 0.0 1.0 0.0 50.0 83000.0]\n",
            " [1.0 0.0 0.0 0.0 35.0 58000.0]\n",
            " [0.0 1.0 0.0 0.0 48.0 79000.0]\n",
            " [0.0 0.0 0.0 1.0 38.5625 52000.0]]\n"
          ]
        }
      ]
    },
    {
      "cell_type": "code",
      "source": [
        "print(X_test)"
      ],
      "metadata": {
        "colab": {
          "base_uri": "https://localhost:8080/"
        },
        "id": "-I0qVnzrBJ_h",
        "outputId": "d5883c04-5540-4123-d184-b37bc252280c"
      },
      "execution_count": null,
      "outputs": [
        {
          "output_type": "stream",
          "name": "stdout",
          "text": [
            "[[1.0 0.0 0.0 0.0 41.0 62562.5]\n",
            " [0.0 1.0 0.0 0.0 25.0 62562.5]\n",
            " [0.0 1.0 0.0 0.0 40.0 62562.5]\n",
            " [0.0 1.0 0.0 0.0 44.0 72000.0]]\n"
          ]
        }
      ]
    },
    {
      "cell_type": "code",
      "source": [
        "print(Y_train)"
      ],
      "metadata": {
        "colab": {
          "base_uri": "https://localhost:8080/"
        },
        "id": "oxrsn992BOcV",
        "outputId": "e607b95e-d182-4296-f607-b073299afcc0"
      },
      "execution_count": null,
      "outputs": [
        {
          "output_type": "stream",
          "name": "stdout",
          "text": [
            "[1 1 1 1 0 0 1 0 1 0 0 0 1 1 0]\n"
          ]
        }
      ]
    },
    {
      "cell_type": "code",
      "source": [
        "print(Y_test)"
      ],
      "metadata": {
        "colab": {
          "base_uri": "https://localhost:8080/"
        },
        "id": "vzTCNBp4BSmA",
        "outputId": "7155d4f1-6732-4dd4-a2a1-0fca476a8ca9"
      },
      "execution_count": null,
      "outputs": [
        {
          "output_type": "stream",
          "name": "stdout",
          "text": [
            "[1 0 1 0]\n"
          ]
        }
      ]
    },
    {
      "cell_type": "markdown",
      "metadata": {
        "id": "TpGqbS4TqkIR"
      },
      "source": [
        "## Feature Scaling"
      ]
    },
    {
      "cell_type": "code",
      "source": [
        "from sklearn.preprocessing import StandardScaler\n",
        "Scaler = StandardScaler()\n",
        "X_train = Scaler.fit_transform(X_train)\n",
        "X_test = Scaler.fit_transform(X_test)"
      ],
      "metadata": {
        "id": "mNwB78PgX_DL"
      },
      "execution_count": null,
      "outputs": []
    },
    {
      "cell_type": "code",
      "source": [
        "print(X_train)"
      ],
      "metadata": {
        "colab": {
          "base_uri": "https://localhost:8080/"
        },
        "id": "0FbR5w4ZDlD5",
        "outputId": "fdcf95ec-45b7-453f-ba27-c39ebef4065f"
      },
      "execution_count": null,
      "outputs": [
        {
          "output_type": "stream",
          "name": "stdout",
          "text": [
            "[[-0.5        -0.5         1.6583124  -0.70710678  0.44570485  0.15355946]\n",
            " [ 2.         -0.5        -0.60302269 -0.70710678  0.58701154  0.59937724]\n",
            " [-0.5        -0.5        -0.60302269  1.41421356  1.85877174  2.08543652]\n",
            " [-0.5        -0.5        -0.60302269  1.41421356 -0.2608286   0.37646835]\n",
            " [-0.5        -0.5        -0.60302269  1.41421356 -0.40213529 -0.1436524 ]\n",
            " [ 2.         -0.5        -0.60302269 -0.70710678 -0.11952191 -0.06934943]\n",
            " [-0.5         2.         -0.60302269 -0.70710678 -0.0400369  -1.62971168]\n",
            " [-0.5         2.         -0.60302269 -0.70710678 -1.39128211 -1.03528797]\n",
            " [-0.5        -0.5        -0.60302269  1.41421356 -1.67389549 -1.03528797]\n",
            " [-0.5        -0.5         1.6583124  -0.70710678 -1.24997542 -0.58947018]\n",
            " [-0.5        -0.5         1.6583124  -0.70710678 -0.0400369  -0.51516722]\n",
            " [-0.5        -0.5         1.6583124  -0.70710678  1.57615836  1.56531578]\n",
            " [ 2.         -0.5        -0.60302269 -0.70710678 -0.54344198 -0.29225833]\n",
            " [-0.5         2.         -0.60302269 -0.70710678  1.29354498  1.26810392]\n",
            " [-0.5        -0.5        -0.60302269  1.41421356 -0.0400369  -0.73807611]]\n"
          ]
        }
      ]
    },
    {
      "cell_type": "code",
      "source": [
        "print(X_test)"
      ],
      "metadata": {
        "id": "gw2ffLEQDt44",
        "outputId": "aacc73b2-e3ba-4cd0-a633-3149028851c8",
        "colab": {
          "base_uri": "https://localhost:8080/"
        }
      },
      "execution_count": null,
      "outputs": [
        {
          "output_type": "stream",
          "name": "stdout",
          "text": [
            "[[ 1.73205081 -1.73205081  0.          0.          0.47519096 -0.57735027]\n",
            " [-0.57735027  0.57735027  0.          0.         -1.69711058 -0.57735027]\n",
            " [-0.57735027  0.57735027  0.          0.          0.33942212 -0.57735027]\n",
            " [-0.57735027  0.57735027  0.          0.          0.8824975   1.73205081]]\n"
          ]
        }
      ]
    }
  ]
}